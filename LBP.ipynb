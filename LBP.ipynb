{
  "nbformat": 4,
  "nbformat_minor": 0,
  "metadata": {
    "colab": {
      "name": "LBP",
      "provenance": [],
      "collapsed_sections": [],
      "mount_file_id": "1p4wTNyLC-2RfMspv81wGG1_sxTSLGahO",
      "authorship_tag": "ABX9TyMI2JUtjZMV3Wq2VYRMdxb9",
      "include_colab_link": true
    },
    "kernelspec": {
      "name": "python3",
      "display_name": "Python 3"
    },
    "language_info": {
      "name": "python"
    }
  },
  "cells": [
    {
      "cell_type": "markdown",
      "metadata": {
        "id": "view-in-github",
        "colab_type": "text"
      },
      "source": [
        "<a href=\"https://colab.research.google.com/github/PranjalMinocha/PHN-300_LBP/blob/main/LBP.ipynb\" target=\"_parent\"><img src=\"https://colab.research.google.com/assets/colab-badge.svg\" alt=\"Open In Colab\"/></a>"
      ]
    },
    {
      "cell_type": "code",
      "source": [
        "from google.colab import drive\n",
        "drive.mount('/content/drive')"
      ],
      "metadata": {
        "id": "FQGPTCzZoUUf"
      },
      "execution_count": null,
      "outputs": []
    },
    {
      "cell_type": "code",
      "execution_count": null,
      "metadata": {
        "id": "Y7QcV5mcFAuR"
      },
      "outputs": [],
      "source": [
        "import numpy as np\n",
        "import pandas as pd\n",
        "import matplotlib.pyplot as plt\n",
        "%matplotlib inline\n",
        "import os\n",
        "from PIL import Image\n",
        "from sklearn.model_selection import train_test_split\n",
        "\n",
        "import tensorflow as tf\n",
        "from tensorflow import keras"
      ]
    },
    {
      "cell_type": "markdown",
      "source": [
        "Creating a dictionary to store image paths with labels as keys"
      ],
      "metadata": {
        "id": "qjSCiGNaQsDT"
      }
    },
    {
      "cell_type": "code",
      "source": [
        "df = {\"label\":[], \"img\":[]}\n",
        "for root, __, files in os.walk(\"/content/drive/MyDrive/LBP sample data/\"):\n",
        "  if(len(files)>0):\n",
        "    label = root.replace(\"/content/drive/MyDrive/LBP sample data/\",\"\")\n",
        "    for f in files:\n",
        "      df[\"label\"].append(label)\n",
        "      df[\"img\"].append(np.array(Image.open(os.path.join(root, f)))/65536.0)"
      ],
      "metadata": {
        "id": "7XqOrKMWNKEL"
      },
      "execution_count": null,
      "outputs": []
    },
    {
      "cell_type": "code",
      "source": [
        "df = pd.DataFrame(df)"
      ],
      "metadata": {
        "id": "CfJvSfK-Vjd5"
      },
      "execution_count": null,
      "outputs": []
    },
    {
      "cell_type": "code",
      "source": [
        "df.head()"
      ],
      "metadata": {
        "colab": {
          "base_uri": "https://localhost:8080/",
          "height": 206
        },
        "id": "8rjVMQiCVp8K",
        "outputId": "43277263-c413-42f3-f19f-ca2a0928fa05"
      },
      "execution_count": null,
      "outputs": [
        {
          "output_type": "execute_result",
          "data": {
            "text/html": [
              "\n",
              "  <div id=\"df-925b13d1-1b17-4e88-b9f5-677b8dc6603c\">\n",
              "    <div class=\"colab-df-container\">\n",
              "      <div>\n",
              "<style scoped>\n",
              "    .dataframe tbody tr th:only-of-type {\n",
              "        vertical-align: middle;\n",
              "    }\n",
              "\n",
              "    .dataframe tbody tr th {\n",
              "        vertical-align: top;\n",
              "    }\n",
              "\n",
              "    .dataframe thead th {\n",
              "        text-align: right;\n",
              "    }\n",
              "</style>\n",
              "<table border=\"1\" class=\"dataframe\">\n",
              "  <thead>\n",
              "    <tr style=\"text-align: right;\">\n",
              "      <th></th>\n",
              "      <th>label</th>\n",
              "      <th>img</th>\n",
              "    </tr>\n",
              "  </thead>\n",
              "  <tbody>\n",
              "    <tr>\n",
              "      <th>0</th>\n",
              "      <td>Clear</td>\n",
              "      <td>[[0.0706787109375, 0.07232666015625, 0.0730438...</td>\n",
              "    </tr>\n",
              "    <tr>\n",
              "      <th>1</th>\n",
              "      <td>Cloudy</td>\n",
              "      <td>[[0.0045013427734375, 0.0044097900390625, 0.00...</td>\n",
              "    </tr>\n",
              "    <tr>\n",
              "      <th>2</th>\n",
              "      <td>Thin Layered Clouds</td>\n",
              "      <td>[[0.0712127685546875, 0.0739593505859375, 0.07...</td>\n",
              "    </tr>\n",
              "    <tr>\n",
              "      <th>3</th>\n",
              "      <td>Cloudy</td>\n",
              "      <td>[[0.0048370361328125, 0.0042572021484375, 0.00...</td>\n",
              "    </tr>\n",
              "    <tr>\n",
              "      <th>4</th>\n",
              "      <td>Clear</td>\n",
              "      <td>[[0.0757598876953125, 0.0732574462890625, 0.07...</td>\n",
              "    </tr>\n",
              "  </tbody>\n",
              "</table>\n",
              "</div>\n",
              "      <button class=\"colab-df-convert\" onclick=\"convertToInteractive('df-925b13d1-1b17-4e88-b9f5-677b8dc6603c')\"\n",
              "              title=\"Convert this dataframe to an interactive table.\"\n",
              "              style=\"display:none;\">\n",
              "        \n",
              "  <svg xmlns=\"http://www.w3.org/2000/svg\" height=\"24px\"viewBox=\"0 0 24 24\"\n",
              "       width=\"24px\">\n",
              "    <path d=\"M0 0h24v24H0V0z\" fill=\"none\"/>\n",
              "    <path d=\"M18.56 5.44l.94 2.06.94-2.06 2.06-.94-2.06-.94-.94-2.06-.94 2.06-2.06.94zm-11 1L8.5 8.5l.94-2.06 2.06-.94-2.06-.94L8.5 2.5l-.94 2.06-2.06.94zm10 10l.94 2.06.94-2.06 2.06-.94-2.06-.94-.94-2.06-.94 2.06-2.06.94z\"/><path d=\"M17.41 7.96l-1.37-1.37c-.4-.4-.92-.59-1.43-.59-.52 0-1.04.2-1.43.59L10.3 9.45l-7.72 7.72c-.78.78-.78 2.05 0 2.83L4 21.41c.39.39.9.59 1.41.59.51 0 1.02-.2 1.41-.59l7.78-7.78 2.81-2.81c.8-.78.8-2.07 0-2.86zM5.41 20L4 18.59l7.72-7.72 1.47 1.35L5.41 20z\"/>\n",
              "  </svg>\n",
              "      </button>\n",
              "      \n",
              "  <style>\n",
              "    .colab-df-container {\n",
              "      display:flex;\n",
              "      flex-wrap:wrap;\n",
              "      gap: 12px;\n",
              "    }\n",
              "\n",
              "    .colab-df-convert {\n",
              "      background-color: #E8F0FE;\n",
              "      border: none;\n",
              "      border-radius: 50%;\n",
              "      cursor: pointer;\n",
              "      display: none;\n",
              "      fill: #1967D2;\n",
              "      height: 32px;\n",
              "      padding: 0 0 0 0;\n",
              "      width: 32px;\n",
              "    }\n",
              "\n",
              "    .colab-df-convert:hover {\n",
              "      background-color: #E2EBFA;\n",
              "      box-shadow: 0px 1px 2px rgba(60, 64, 67, 0.3), 0px 1px 3px 1px rgba(60, 64, 67, 0.15);\n",
              "      fill: #174EA6;\n",
              "    }\n",
              "\n",
              "    [theme=dark] .colab-df-convert {\n",
              "      background-color: #3B4455;\n",
              "      fill: #D2E3FC;\n",
              "    }\n",
              "\n",
              "    [theme=dark] .colab-df-convert:hover {\n",
              "      background-color: #434B5C;\n",
              "      box-shadow: 0px 1px 3px 1px rgba(0, 0, 0, 0.15);\n",
              "      filter: drop-shadow(0px 1px 2px rgba(0, 0, 0, 0.3));\n",
              "      fill: #FFFFFF;\n",
              "    }\n",
              "  </style>\n",
              "\n",
              "      <script>\n",
              "        const buttonEl =\n",
              "          document.querySelector('#df-925b13d1-1b17-4e88-b9f5-677b8dc6603c button.colab-df-convert');\n",
              "        buttonEl.style.display =\n",
              "          google.colab.kernel.accessAllowed ? 'block' : 'none';\n",
              "\n",
              "        async function convertToInteractive(key) {\n",
              "          const element = document.querySelector('#df-925b13d1-1b17-4e88-b9f5-677b8dc6603c');\n",
              "          const dataTable =\n",
              "            await google.colab.kernel.invokeFunction('convertToInteractive',\n",
              "                                                     [key], {});\n",
              "          if (!dataTable) return;\n",
              "\n",
              "          const docLinkHtml = 'Like what you see? Visit the ' +\n",
              "            '<a target=\"_blank\" href=https://colab.research.google.com/notebooks/data_table.ipynb>data table notebook</a>'\n",
              "            + ' to learn more about interactive tables.';\n",
              "          element.innerHTML = '';\n",
              "          dataTable['output_type'] = 'display_data';\n",
              "          await google.colab.output.renderOutput(dataTable, element);\n",
              "          const docLink = document.createElement('div');\n",
              "          docLink.innerHTML = docLinkHtml;\n",
              "          element.appendChild(docLink);\n",
              "        }\n",
              "      </script>\n",
              "    </div>\n",
              "  </div>\n",
              "  "
            ],
            "text/plain": [
              "                 label                                                img\n",
              "0                Clear  [[0.0706787109375, 0.07232666015625, 0.0730438...\n",
              "1               Cloudy  [[0.0045013427734375, 0.0044097900390625, 0.00...\n",
              "2  Thin Layered Clouds  [[0.0712127685546875, 0.0739593505859375, 0.07...\n",
              "3               Cloudy  [[0.0048370361328125, 0.0042572021484375, 0.00...\n",
              "4                Clear  [[0.0757598876953125, 0.0732574462890625, 0.07..."
            ]
          },
          "metadata": {},
          "execution_count": 28
        }
      ]
    },
    {
      "cell_type": "markdown",
      "source": [
        "Train-Test split"
      ],
      "metadata": {
        "id": "e5J8Hlj2ReJZ"
      }
    },
    {
      "cell_type": "code",
      "source": [
        "X = df[\"img\"]\n",
        "y = df[\"label\"]"
      ],
      "metadata": {
        "id": "Z30TpHUgSxAA"
      },
      "execution_count": null,
      "outputs": []
    },
    {
      "cell_type": "code",
      "source": [
        "#we know cloudy>partly cloudy>Thin Layered Clouds>Clear in brightness hence we apply following encoding\n",
        "def label_encode(s):\n",
        "  d = {\"Clear\": 0, \"Thin Layered Clouds\": 1, \"Partly Cloudy\": 2, \"Cloudy\":3}\n",
        "  return d[s]"
      ],
      "metadata": {
        "id": "riIj1r7X5asR"
      },
      "execution_count": null,
      "outputs": []
    },
    {
      "cell_type": "code",
      "source": [
        "y = y.apply(label_encode)"
      ],
      "metadata": {
        "id": "8WX_QKfC6pkV"
      },
      "execution_count": null,
      "outputs": []
    },
    {
      "cell_type": "code",
      "source": [
        "X_train, X_test, y_train, y_test = train_test_split(X, y, test_size=0.2, random_state=2022)"
      ],
      "metadata": {
        "id": "uNeoGhS8Yczy"
      },
      "execution_count": null,
      "outputs": []
    },
    {
      "cell_type": "code",
      "source": [
        "len(X_train), len(X_test), len(y_train), len(y_test)"
      ],
      "metadata": {
        "colab": {
          "base_uri": "https://localhost:8080/"
        },
        "id": "7hgYP8X6qnAo",
        "outputId": "106e9152-f163-46fe-9735-0346d2e60140"
      },
      "execution_count": null,
      "outputs": [
        {
          "output_type": "execute_result",
          "data": {
            "text/plain": [
              "(128, 32, 128, 32)"
            ]
          },
          "metadata": {},
          "execution_count": 45
        }
      ]
    },
    {
      "cell_type": "code",
      "source": [
        "plt.imshow(X_train.iloc[0], cmap='gray')\n",
        "print(y_train.iloc[0])"
      ],
      "metadata": {
        "colab": {
          "base_uri": "https://localhost:8080/",
          "height": 286
        },
        "id": "UJcKlEwUrfh2",
        "outputId": "0dd9f690-1090-4588-f8b0-aa301ba8e9a7"
      },
      "execution_count": null,
      "outputs": [
        {
          "output_type": "stream",
          "name": "stdout",
          "text": [
            "2\n"
          ]
        },
        {
          "output_type": "display_data",
          "data": {
            "image/png": "[encoded data removed]",
            "text/plain": [
              "<Figure size 432x288 with 1 Axes>"
            ]
          },
          "metadata": {
            "needs_background": "light"
          }
        }
      ]
    },
    {
      "cell_type": "markdown",
      "source": [
        "#Building Model"
      ],
      "metadata": {
        "id": "LqsW2trAYtU_"
      }
    },
    {
      "cell_type": "markdown",
      "source": [
        "Flattening all the images"
      ],
      "metadata": {
        "id": "QIa_taYNuXfE"
      }
    },
    {
      "cell_type": "code",
      "source": [
        "X_train_flattened = np.vstack(X_train.apply(lambda x: np.reshape(x, -1)))\n",
        "X_test_flattened = np.vstack(X_test.apply(lambda x: np.reshape(x, -1)))"
      ],
      "metadata": {
        "id": "uvmZ9IThuPse"
      },
      "execution_count": null,
      "outputs": []
    },
    {
      "cell_type": "code",
      "source": [
        "X_train_flattened.shape"
      ],
      "metadata": {
        "colab": {
          "base_uri": "https://localhost:8080/"
        },
        "id": "v9qyCwGX4VzK",
        "outputId": "d7873c2c-0173-4cbb-f723-4d48f89d4e3a"
      },
      "execution_count": null,
      "outputs": [
        {
          "output_type": "execute_result",
          "data": {
            "text/plain": [
              "(128, 261121)"
            ]
          },
          "metadata": {},
          "execution_count": 48
        }
      ]
    },
    {
      "cell_type": "markdown",
      "source": [
        "Applying Label Encoding"
      ],
      "metadata": {
        "id": "AUQMKClJ5bPf"
      }
    },
    {
      "cell_type": "code",
      "source": [
        "y_train = y_train.to_numpy()\n",
        "y_test = y_test.to_numpy()"
      ],
      "metadata": {
        "id": "ZPuDbKUcb0GJ"
      },
      "execution_count": null,
      "outputs": []
    },
    {
      "cell_type": "code",
      "source": [
        "model = keras.Sequential([\n",
        "    keras.layers.Dense(100, input_shape=(261121,), activation='relu'),\n",
        "    keras.layers.Dense(4, activation='sigmoid')\n",
        "])\n",
        "\n",
        "model.compile(optimizer='adam',\n",
        "              loss='sparse_categorical_crossentropy',\n",
        "              metrics=['accuracy'])\n",
        "\n",
        "model.fit(X_train_flattened, y_train, epochs=50)"
      ],
      "metadata": {
        "colab": {
          "base_uri": "https://localhost:8080/"
        },
        "id": "jUtlhccg3-T7",
        "outputId": "137127ed-0034-451a-946e-12bd28f49e35"
      },
      "execution_count": null,
      "outputs": [
        {
          "output_type": "stream",
          "name": "stdout",
          "text": [
            "Epoch 1/50\n",
            "4/4 [==============================] - 1s 170ms/step - loss: 12.8242 - accuracy: 0.2656\n",
            "Epoch 2/50\n",
            "4/4 [==============================] - 1s 169ms/step - loss: 9.4107 - accuracy: 0.3828\n",
            "Epoch 3/50\n",
            "4/4 [==============================] - 1s 173ms/step - loss: 7.7988 - accuracy: 0.4531\n",
            "Epoch 4/50\n",
            "4/4 [==============================] - 1s 172ms/step - loss: 5.0356 - accuracy: 0.4922\n",
            "Epoch 5/50\n",
            "4/4 [==============================] - 1s 169ms/step - loss: 6.1303 - accuracy: 0.6641\n",
            "Epoch 6/50\n",
            "4/4 [==============================] - 1s 171ms/step - loss: 2.3364 - accuracy: 0.6406\n",
            "Epoch 7/50\n",
            "4/4 [==============================] - 1s 167ms/step - loss: 2.0446 - accuracy: 0.5703\n",
            "Epoch 8/50\n",
            "4/4 [==============================] - 1s 167ms/step - loss: 0.8149 - accuracy: 0.7266\n",
            "Epoch 9/50\n",
            "4/4 [==============================] - 1s 168ms/step - loss: 1.2873 - accuracy: 0.6562\n",
            "Epoch 10/50\n",
            "4/4 [==============================] - 1s 167ms/step - loss: 1.1291 - accuracy: 0.8047\n",
            "Epoch 11/50\n",
            "4/4 [==============================] - 1s 171ms/step - loss: 0.5817 - accuracy: 0.8125\n",
            "Epoch 12/50\n",
            "4/4 [==============================] - 1s 176ms/step - loss: 0.3661 - accuracy: 0.8438\n",
            "Epoch 13/50\n",
            "4/4 [==============================] - 1s 166ms/step - loss: 0.3842 - accuracy: 0.9141\n",
            "Epoch 14/50\n",
            "4/4 [==============================] - 1s 169ms/step - loss: 1.3137 - accuracy: 0.8203\n",
            "Epoch 15/50\n",
            "4/4 [==============================] - 1s 170ms/step - loss: 1.3314 - accuracy: 0.7969\n",
            "Epoch 16/50\n",
            "4/4 [==============================] - 1s 167ms/step - loss: 1.2785 - accuracy: 0.9141\n",
            "Epoch 17/50\n",
            "4/4 [==============================] - 1s 170ms/step - loss: 0.3153 - accuracy: 0.8828\n",
            "Epoch 18/50\n",
            "4/4 [==============================] - 1s 170ms/step - loss: 0.1858 - accuracy: 0.9375\n",
            "Epoch 19/50\n",
            "4/4 [==============================] - 1s 167ms/step - loss: 0.1052 - accuracy: 0.9844\n",
            "Epoch 20/50\n",
            "4/4 [==============================] - 1s 171ms/step - loss: 0.1593 - accuracy: 0.9609\n",
            "Epoch 21/50\n",
            "4/4 [==============================] - 1s 172ms/step - loss: 0.1627 - accuracy: 0.9531\n",
            "Epoch 22/50\n",
            "4/4 [==============================] - 1s 167ms/step - loss: 0.0702 - accuracy: 1.0000\n",
            "Epoch 23/50\n",
            "4/4 [==============================] - 1s 174ms/step - loss: 0.0621 - accuracy: 1.0000\n",
            "Epoch 24/50\n",
            "4/4 [==============================] - 1s 176ms/step - loss: 0.0591 - accuracy: 1.0000\n",
            "Epoch 25/50\n",
            "4/4 [==============================] - 1s 167ms/step - loss: 0.0596 - accuracy: 1.0000\n",
            "Epoch 26/50\n",
            "4/4 [==============================] - 1s 173ms/step - loss: 0.0620 - accuracy: 0.9922\n",
            "Epoch 27/50\n",
            "4/4 [==============================] - 1s 175ms/step - loss: 0.0686 - accuracy: 0.9844\n",
            "Epoch 28/50\n",
            "4/4 [==============================] - 1s 167ms/step - loss: 0.1138 - accuracy: 0.9688\n",
            "Epoch 29/50\n",
            "4/4 [==============================] - 1s 171ms/step - loss: 0.0898 - accuracy: 0.9922\n",
            "Epoch 30/50\n",
            "4/4 [==============================] - 1s 168ms/step - loss: 0.5358 - accuracy: 0.8750\n",
            "Epoch 31/50\n",
            "4/4 [==============================] - 1s 167ms/step - loss: 0.9985 - accuracy: 0.8984\n",
            "Epoch 32/50\n",
            "4/4 [==============================] - 1s 168ms/step - loss: 1.1617 - accuracy: 0.8828\n",
            "Epoch 33/50\n",
            "4/4 [==============================] - 1s 172ms/step - loss: 1.3006 - accuracy: 0.8828\n",
            "Epoch 34/50\n",
            "4/4 [==============================] - 1s 172ms/step - loss: 2.0802 - accuracy: 0.8516\n",
            "Epoch 35/50\n",
            "4/4 [==============================] - 1s 175ms/step - loss: 1.3352 - accuracy: 0.8828\n",
            "Epoch 36/50\n",
            "4/4 [==============================] - 1s 173ms/step - loss: 0.6053 - accuracy: 0.9141\n",
            "Epoch 37/50\n",
            "4/4 [==============================] - 1s 167ms/step - loss: 0.9787 - accuracy: 0.8750\n",
            "Epoch 38/50\n",
            "4/4 [==============================] - 1s 170ms/step - loss: 0.4717 - accuracy: 0.9297\n",
            "Epoch 39/50\n",
            "4/4 [==============================] - 1s 165ms/step - loss: 0.3013 - accuracy: 0.8672\n",
            "Epoch 40/50\n",
            "4/4 [==============================] - 1s 166ms/step - loss: 1.2229 - accuracy: 0.9141\n",
            "Epoch 41/50\n",
            "4/4 [==============================] - 1s 170ms/step - loss: 1.5323 - accuracy: 0.7891\n",
            "Epoch 42/50\n",
            "4/4 [==============================] - 1s 166ms/step - loss: 1.4096 - accuracy: 0.9297\n",
            "Epoch 43/50\n",
            "4/4 [==============================] - 1s 172ms/step - loss: 0.4524 - accuracy: 0.8828\n",
            "Epoch 44/50\n",
            "4/4 [==============================] - 1s 173ms/step - loss: 0.1004 - accuracy: 0.9844\n",
            "Epoch 45/50\n",
            "4/4 [==============================] - 1s 167ms/step - loss: 0.0963 - accuracy: 0.9531\n",
            "Epoch 46/50\n",
            "4/4 [==============================] - 1s 170ms/step - loss: 0.1618 - accuracy: 0.9609\n",
            "Epoch 47/50\n",
            "4/4 [==============================] - 1s 171ms/step - loss: 0.1998 - accuracy: 0.9297\n",
            "Epoch 48/50\n",
            "4/4 [==============================] - 1s 173ms/step - loss: 0.1862 - accuracy: 0.9141\n",
            "Epoch 49/50\n",
            "4/4 [==============================] - 1s 171ms/step - loss: 0.0583 - accuracy: 0.9844\n",
            "Epoch 50/50\n",
            "4/4 [==============================] - 1s 165ms/step - loss: 0.0521 - accuracy: 0.9922\n"
          ]
        },
        {
          "output_type": "execute_result",
          "data": {
            "text/plain": [
              "<keras.callbacks.History at 0x7f258351d690>"
            ]
          },
          "metadata": {},
          "execution_count": 54
        }
      ]
    },
    {
      "cell_type": "code",
      "source": [
        "model.evaluate(X_test_flattened,y_test)"
      ],
      "metadata": {
        "colab": {
          "base_uri": "https://localhost:8080/"
        },
        "id": "Ax31CL_m7Mvh",
        "outputId": "974be920-a69b-4a5f-b761-13c4e2de9177"
      },
      "execution_count": null,
      "outputs": [
        {
          "output_type": "stream",
          "name": "stdout",
          "text": [
            "1/1 [==============================] - 0s 190ms/step - loss: 0.1429 - accuracy: 0.9375\n"
          ]
        },
        {
          "output_type": "execute_result",
          "data": {
            "text/plain": [
              "[0.14293894171714783, 0.9375]"
            ]
          },
          "metadata": {},
          "execution_count": 55
        }
      ]
    },
    {
      "cell_type": "code",
      "source": [
        "import seaborn as sn"
      ],
      "metadata": {
        "id": "C280_be-7ZBS"
      },
      "execution_count": null,
      "outputs": []
    },
    {
      "cell_type": "code",
      "source": [
        "y_predicted = model.predict(X_test_flattened)\n",
        "y_predicted_labels = [np.argmax(i) for i in y_predicted]\n",
        "cm = tf.math.confusion_matrix(labels=y_test,predictions=y_predicted_labels)\n",
        "\n",
        "plt.figure(figsize = (10,7))\n",
        "sn.heatmap(cm, annot=True, fmt='d')\n",
        "plt.xlabel('Predicted')\n",
        "plt.ylabel('Truth')"
      ],
      "metadata": {
        "colab": {
          "base_uri": "https://localhost:8080/",
          "height": 459
        },
        "id": "HglXv_jT7Tqq",
        "outputId": "4a8d5b76-3b1a-477a-ff2f-260e48c67fee"
      },
      "execution_count": null,
      "outputs": [
        {
          "output_type": "execute_result",
          "data": {
            "text/plain": [
              "Text(69.0, 0.5, 'Truth')"
            ]
          },
          "metadata": {},
          "execution_count": 57
        },
        {
          "output_type": "display_data",
          "data": {
            "image/png": "[encoded data removed]",
            "text/plain": [
              "<Figure size 720x504 with 2 Axes>"
            ]
          },
          "metadata": {
            "needs_background": "light"
          }
        }
      ]
    }
  ]
}